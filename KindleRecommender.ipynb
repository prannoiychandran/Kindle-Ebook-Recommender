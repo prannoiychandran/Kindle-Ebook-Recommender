{
  "nbformat": 4,
  "nbformat_minor": 0,
  "metadata": {
    "colab": {
      "name": "GCP-KindleRecommender_ALS EDITED.ipynb",
      "provenance": []
    },
    "kernelspec": {
      "display_name": "Python 3",
      "language": "python",
      "name": "python3"
    },
    "language_info": {
      "codemirror_mode": {
        "name": "ipython",
        "version": 3
      },
      "file_extension": ".py",
      "mimetype": "text/x-python",
      "name": "python",
      "nbconvert_exporter": "python",
      "pygments_lexer": "ipython3",
      "version": "3.8.5"
    }
  },
  "cells": [
    {
      "cell_type": "code",
      "metadata": {
        "id": "kiIElyF-YyRL"
      },
      "source": [
        "import os\n",
        "import time\n",
        "\n",
        "# spark imports\n",
        "from pyspark.sql import SparkSession\n",
        "from pyspark.sql.functions import UserDefinedFunction, explode, desc\n",
        "from pyspark.sql.types import *\n",
        "from pyspark import SparkContext\n",
        "from pyspark.sql import SQLContext\n",
        "from pyspark.sql import Row\n",
        "from pyspark.ml.recommendation import ALS\n",
        "from pyspark.ml.evaluation import RegressionEvaluator\n",
        "from pyspark.ml.feature import StringIndexer\n",
        "from pyspark.ml import Pipeline\n",
        "from pyspark.sql.functions import col\n",
        "from pyspark.ml.tuning import ParamGridBuilder, CrossValidator\n",
        "\n",
        "# data science imports\n",
        "import math\n",
        "import numpy as np\n",
        "import pandas as pd\n",
        "\n",
        "# data viz imports\n",
        "import seaborn as sns\n",
        "import matplotlib.pyplot as plt\n",
        "\n",
        "%matplotlib inline"
      ],
      "execution_count": null,
      "outputs": []
    },
    {
      "cell_type": "code",
      "metadata": {
        "id": "1CtpLhPhYyRQ"
      },
      "source": [
        "# spark config\n",
        "spark = SparkSession \\\n",
        "    .builder \\\n",
        "    .appName(\"ebook recommendation\") \\\n",
        "    .config(\"spark.driver.maxResultSize\", \"96g\") \\\n",
        "    .config(\"spark.driver.memory\", \"96g\") \\\n",
        "    .config(\"spark.executor.memory\", \"8g\") \\\n",
        "    .config(\"spark.master\", \"local[12]\") \\\n",
        "    .getOrCreate()\n",
        "# spark context\n",
        "sc = spark.sparkContext"
      ],
      "execution_count": null,
      "outputs": []
    },
    {
      "cell_type": "code",
      "metadata": {
        "id": "ICvkQHzjtG2u",
        "outputId": "90043385-9d5b-4ef3-c17f-91adef81ef98"
      },
      "source": [
        "# Get connect to Google Cloud\n",
        "from google.cloud import storage\n",
        "from io import BytesIO\n",
        "bucket_name = \"bdproject1\" #Assign the bucket name of my google cloud storage\n",
        "storage_client = storage.Client()\n",
        "\n",
        "bucket = storage_client.get_bucket(bucket_name)\n",
        "\n",
        "blob = storage.blob.Blob(\"kindle_reviews.csv\",bucket)\n",
        "blob"
      ],
      "execution_count": null,
      "outputs": [
        {
          "output_type": "execute_result",
          "data": {
            "text/plain": [
              "<Blob: bdproject1, kindle_reviews.csv, None>"
            ]
          },
          "metadata": {
            "tags": []
          },
          "execution_count": 3
        }
      ]
    },
    {
      "cell_type": "code",
      "metadata": {
        "id": "LQdLUyo9tG2v"
      },
      "source": [
        "# Convert to a pandas dataframe\n",
        "content = blob.download_as_string()\n",
        "df0 = pd.read_csv(BytesIO(content))"
      ],
      "execution_count": null,
      "outputs": []
    },
    {
      "cell_type": "code",
      "metadata": {
        "id": "ggZIXSHNtG2v",
        "outputId": "8c062407-6fb3-4a9b-b09b-062cfe2a07f3"
      },
      "source": [
        "df0.pop('Unnamed: 0')"
      ],
      "execution_count": null,
      "outputs": [
        {
          "output_type": "execute_result",
          "data": {
            "text/plain": [
              "0              0\n",
              "1              1\n",
              "2              2\n",
              "3              3\n",
              "4              4\n",
              "           ...  \n",
              "982614    982614\n",
              "982615    982615\n",
              "982616    982616\n",
              "982617    982617\n",
              "982618    982618\n",
              "Name: Unnamed: 0, Length: 982619, dtype: int64"
            ]
          },
          "metadata": {
            "tags": []
          },
          "execution_count": 5
        }
      ]
    },
    {
      "cell_type": "code",
      "metadata": {
        "id": "yKYN0DbmtG2v"
      },
      "source": [
        "schema = StructType([StructField(\"asin\", StringType(), True),\n",
        "                     StructField(\"helpful\",StringType(), True), \n",
        "                     StructField(\"overall\", IntegerType(), True),\n",
        "                     StructField(\"reviewText\",StringType(), True),\n",
        "                     StructField(\"reviewTime\",StringType(), True),\n",
        "                     StructField(\"reviewerID\",StringType(), True),\n",
        "                     StructField(\"reviewerName\",StringType(), True),\n",
        "                     StructField(\"summary\",StringType(), True),\n",
        "                     StructField(\"unixReviewTime\",StringType(), True)])\n",
        "df = spark.createDataFrame(df0, schema=schema)"
      ],
      "execution_count": null,
      "outputs": []
    },
    {
      "cell_type": "code",
      "metadata": {
        "id": "QMP0yjQoYyRR"
      },
      "source": [
        "# We don't use this if we connect to data in GCP, but we can use this if we just run the code in GCP but do not connect data in GCP\n",
        "# data_path = os.path.join('kindle_reviews.csv')\n",
        "# read file\n",
        "#df = spark.read.load(os.path.join(data_path), format='csv', header=True, inferSchema=True)"
      ],
      "execution_count": null,
      "outputs": []
    },
    {
      "cell_type": "code",
      "metadata": {
        "id": "fqQZvF55YyRR"
      },
      "source": [
        "df = df.sample(0.1)"
      ],
      "execution_count": null,
      "outputs": []
    },
    {
      "cell_type": "code",
      "metadata": {
        "id": "IaXqLZ3PYyRS",
        "outputId": "6aa46e24-d3a0-4be7-8653-fab984cd8be0"
      },
      "source": [
        "# drop rows with nulls\n",
        "df.na.drop()"
      ],
      "execution_count": null,
      "outputs": [
        {
          "output_type": "execute_result",
          "data": {
            "text/plain": [
              "DataFrame[asin: string, helpful: string, overall: int, reviewText: string, reviewTime: string, reviewerID: string, reviewerName: string, summary: string, unixReviewTime: string]"
            ]
          },
          "metadata": {
            "tags": []
          },
          "execution_count": 9
        }
      ]
    },
    {
      "cell_type": "code",
      "metadata": {
        "id": "5SDW2KX3YyRT",
        "outputId": "de854bc1-880a-498d-ac5f-fcac3276926e"
      },
      "source": [
        "df.show()"
      ],
      "execution_count": null,
      "outputs": [
        {
          "output_type": "stream",
          "text": [
            "+----------+--------+-------+--------------------+-----------+--------------+--------------------+--------------------+--------------+\n",
            "|      asin| helpful|overall|          reviewText| reviewTime|    reviewerID|        reviewerName|             summary|unixReviewTime|\n",
            "+----------+--------+-------+--------------------+-----------+--------------+--------------------+--------------------+--------------+\n",
            "|B000F83SZQ|  [2, 2]|      4|This book is a re...| 01 6, 2014| AN0N05A9LIJEQ|            critters|        Different...|    1388966400|\n",
            "|B000FA64QO|  [2, 2]|      4|Most of the New J...|05 17, 2011| AQZH7YTWQPOBE|            Enjolras|    A Thrackan story|    1305590400|\n",
            "|B000FC1BN8|  [0, 0]|      3|** Note: this sto...|05 14, 2012|A2OIGPPBTR65MR|                para|Enjoyable, if unr...|    1336953600|\n",
            "|B000FDJ0FS|  [3, 3]|      1|I read nearly all...|11 23, 2012|A3L25SHGZKH8Q1|     John K. Pearson|Not quite a disaster|    1353628800|\n",
            "|B000FDJ0FS|[12, 13]|      1|My Combination On...|09 14, 2010|A1AKKYXG0Y0ULL|          S. Michael|       Too Expensive|    1284422400|\n",
            "|B000GFK7L6|  [0, 0]|      5|There is so much ...| 03 3, 2014|A3GXR6CHHPX0JS|         Barry Owens|I wish I had time...|    1393804800|\n",
            "|B000GFK7L6|  [0, 0]|      4|I LOVE the NY TIM...|12 28, 2012| AJLPS4A9HGOQK|            Patricia|The Times is Grea...|    1356652800|\n",
            "|B000GFK7L6|  [0, 0]|      4|I downloaded to r...| 05 9, 2013|A18FT4SOVZ4CCW|           SunbowSue|        A Good Paper|    1368057600|\n",
            "|B000HA4FKY|  [0, 0]|      4|I purchased this ...| 09 6, 2012|A3AKG73AM4OKSI|              Dave W|good, quality new...|    1346889600|\n",
            "|B000HC48T0| [3, 24]|      2|I am not from Was...|02 16, 2008|A3775OP5VTX5ON|   Coolkayaker \"ck1\"|     Too provincial.|    1203120000|\n",
            "|B000JMKU0Y|  [0, 0]|      4|Alex Rossi aka Se...|08 22, 2013| A23U4O4NX29LP|Linda Langford \"r...|GREAT ACTION READ!!!|    1377129600|\n",
            "|B000JMKX4W|  [1, 1]|      4|I enjoyed this bo...|01 18, 2013|A2P99LRDXBF8NF|      Celeste Thayer|          Very funny|    1358467200|\n",
            "|B000JMKX4W|  [0, 1]|      3|This was a mildly...| 01 9, 2013| A9L0KCZBVZDJB|KLP \"Hooked on bo...|Geez, I hope my l...|    1357689600|\n",
            "|B000JMKXYW|  [0, 0]|      5|Mark Twain can su...| 09 5, 2013| ALRH7EYOMZ5RH|David_from_Michig...|Quick, enjoyable,...|    1378339200|\n",
            "|B000JML1QG|  [0, 0]|      2|Though these be t...|04 20, 2013|A1PSYTEX4HIVAC|            DimPoint|           Incorrect|    1366416000|\n",
            "|B000JML5JY|  [0, 0]|      4|The book is the a...|05 26, 2014|A1YRYH5LD5W189|   Chileman \"SSandy\"|Over There: War S...|    1401062400|\n",
            "|B000JML5JY|  [1, 1]|      5|This was very wel...| 02 2, 2013| AMYS6YEEYSNB1|rakkasan3_187 \"ra...|Short, But A Grea...|    1359763200|\n",
            "|B000JMLBHU|  [0, 0]|      4|I read the who th...|04 11, 2013|A27EEX3H2CB70G|     Amazon Customer|          Good Story|    1365638400|\n",
            "|B000JMLBHU|  [0, 0]|      5|The author had a ...|06 15, 2014|A3MC71A07AH7S3|      Barbara Porter|The Mysterious Is...|    1402790400|\n",
            "|B000JMLBHU|  [0, 0]|      3|I almost regret t...| 11 2, 2010|A25J168NSTHMYW|      David A. Sifre|I read it all...b...|    1288656000|\n",
            "+----------+--------+-------+--------------------+-----------+--------------+--------------------+--------------------+--------------+\n",
            "only showing top 20 rows\n",
            "\n"
          ],
          "name": "stdout"
        }
      ]
    },
    {
      "cell_type": "code",
      "metadata": {
        "id": "K1Go0m7SYyRT",
        "outputId": "dcb0577e-e11f-4b05-cb58-885de0ead754"
      },
      "source": [
        "# isolate asin, rating & reviewer id\n",
        "ratings = df.select(df['asin'],df['overall'],df['reviewerID'])\n",
        "ratings.show()"
      ],
      "execution_count": null,
      "outputs": [
        {
          "output_type": "stream",
          "text": [
            "+----------+-------+--------------+\n",
            "|      asin|overall|    reviewerID|\n",
            "+----------+-------+--------------+\n",
            "|B000F83SZQ|      4| AN0N05A9LIJEQ|\n",
            "|B000FA64QO|      4| AQZH7YTWQPOBE|\n",
            "|B000FC1BN8|      3|A2OIGPPBTR65MR|\n",
            "|B000FDJ0FS|      1|A3L25SHGZKH8Q1|\n",
            "|B000FDJ0FS|      1|A1AKKYXG0Y0ULL|\n",
            "|B000GFK7L6|      5|A3GXR6CHHPX0JS|\n",
            "|B000GFK7L6|      4| AJLPS4A9HGOQK|\n",
            "|B000GFK7L6|      4|A18FT4SOVZ4CCW|\n",
            "|B000HA4FKY|      4|A3AKG73AM4OKSI|\n",
            "|B000HC48T0|      2|A3775OP5VTX5ON|\n",
            "|B000JMKU0Y|      4| A23U4O4NX29LP|\n",
            "|B000JMKX4W|      4|A2P99LRDXBF8NF|\n",
            "|B000JMKX4W|      3| A9L0KCZBVZDJB|\n",
            "|B000JMKXYW|      5| ALRH7EYOMZ5RH|\n",
            "|B000JML1QG|      2|A1PSYTEX4HIVAC|\n",
            "|B000JML5JY|      4|A1YRYH5LD5W189|\n",
            "|B000JML5JY|      5| AMYS6YEEYSNB1|\n",
            "|B000JMLBHU|      4|A27EEX3H2CB70G|\n",
            "|B000JMLBHU|      5|A3MC71A07AH7S3|\n",
            "|B000JMLBHU|      3|A25J168NSTHMYW|\n",
            "+----------+-------+--------------+\n",
            "only showing top 20 rows\n",
            "\n"
          ],
          "name": "stdout"
        }
      ]
    },
    {
      "cell_type": "code",
      "metadata": {
        "id": "GYnPkiFHYyRT",
        "outputId": "65871807-658e-4917-c57a-aeeb8e5530cd"
      },
      "source": [
        "# most active reviewers\n",
        "ratings_by_user = ratings.groupBy(\"reviewerID\").count().orderBy('count', ascending=False)\n",
        "ratings_by_user.show()"
      ],
      "execution_count": null,
      "outputs": [
        {
          "output_type": "stream",
          "text": [
            "+--------------+-----+\n",
            "|    reviewerID|count|\n",
            "+--------------+-----+\n",
            "|A2WZJDFX12QXKD|  117|\n",
            "|A13QTZ8CIMHHG4|  112|\n",
            "|A3PTWPKPXOG8Y5|   82|\n",
            "| A320TMDV6KCFU|   82|\n",
            "|A1JLU5H1CCENWX|   78|\n",
            "|A37LY77Q2YPJVL|   67|\n",
            "|A2JZCZYHNQHSCP|   65|\n",
            "| ANOSVLTGRKABQ|   64|\n",
            "|A3A7FF87LEVCQ1|   62|\n",
            "| A5JZNVV4TEAWU|   61|\n",
            "| A2YJ8VP1SSHJ7|   60|\n",
            "| A3LXRIY0HE71K|   60|\n",
            "|A328S9RN3U5M68|   58|\n",
            "|A2VXSQHJWZAQGY|   57|\n",
            "|A33W5CVYPB8ENS|   49|\n",
            "| AWAP0KEX6POQV|   48|\n",
            "|A1JKGTL51HHTU1|   48|\n",
            "|A23GRXCXQU3SM8|   48|\n",
            "|A1U5XB6PCIDLIK|   48|\n",
            "| ADDT2MU773IYL|   47|\n",
            "+--------------+-----+\n",
            "only showing top 20 rows\n",
            "\n"
          ],
          "name": "stdout"
        }
      ]
    },
    {
      "cell_type": "code",
      "metadata": {
        "id": "hgXcPPO6YyRT",
        "outputId": "aed30430-6ed4-49bc-f53f-90783fb0ea63"
      },
      "source": [
        "# most frequently reviewed ebooks\n",
        "ratings_by_ebook = ratings.groupBy(\"asin\").count().orderBy('count', ascending=False)\n",
        "ratings_by_ebook.show()"
      ],
      "execution_count": null,
      "outputs": [
        {
          "output_type": "stream",
          "text": [
            "+----------+-----+\n",
            "|      asin|count|\n",
            "+----------+-----+\n",
            "|B006GWO5WK|  106|\n",
            "|B00BTIDW4S|   81|\n",
            "|B00H0V069M|   55|\n",
            "|B00JDYC5OI|   52|\n",
            "|B007R5YDYA|   49|\n",
            "|B00BTIDXVU|   48|\n",
            "|B005DOK8NW|   47|\n",
            "|B005ME39HU|   45|\n",
            "|B00BT0J8ZS|   45|\n",
            "|B004E10W0E|   43|\n",
            "|B00BTIDOO6|   43|\n",
            "|B00BSX4U04|   43|\n",
            "|B00DJB6KE2|   42|\n",
            "|B00KF0URBM|   41|\n",
            "|B00HYQJPC2|   37|\n",
            "|B00CCRTFSC|   37|\n",
            "|B00E5JAIP4|   37|\n",
            "|B008IL48BK|   37|\n",
            "|B00FGFY86G|   35|\n",
            "|B00BTN2DSY|   34|\n",
            "+----------+-----+\n",
            "only showing top 20 rows\n",
            "\n"
          ],
          "name": "stdout"
        }
      ]
    },
    {
      "cell_type": "code",
      "metadata": {
        "id": "FJA3PyzuYyRU",
        "outputId": "10c85136-c4b5-48f4-a021-07e8312173ed"
      },
      "source": [
        "# ALS only takes int params\n",
        "# convert reviewerid & ASIN to int\n",
        "indexer = [StringIndexer(inputCol=column, outputCol=column+\"_index\", handleInvalid='skip')\n",
        "           for column in list(set(ratings.columns)-set(['overall'])) ]\n",
        "pipeline = Pipeline(stages=indexer)\n",
        "\n",
        "transformed = pipeline.fit(ratings).transform(ratings)\n",
        "transformed.show()"
      ],
      "execution_count": null,
      "outputs": [
        {
          "output_type": "stream",
          "text": [
            "+----------+-------+--------------+----------------+----------+\n",
            "|      asin|overall|    reviewerID|reviewerID_index|asin_index|\n",
            "+----------+-------+--------------+----------------+----------+\n",
            "|B000F83SZQ|      4| AN0N05A9LIJEQ|          1270.0|   21488.0|\n",
            "|B000FA64QO|      4| AQZH7YTWQPOBE|         40709.0|   21489.0|\n",
            "|B000FC1BN8|      3|A2OIGPPBTR65MR|          7897.0|   21490.0|\n",
            "|B000FDJ0FS|      1|A3L25SHGZKH8Q1|         35299.0|   11453.0|\n",
            "|B000FDJ0FS|      1|A1AKKYXG0Y0ULL|         21875.0|   11453.0|\n",
            "|B000GFK7L6|      5|A3GXR6CHHPX0JS|         16720.0|    6880.0|\n",
            "|B000GFK7L6|      4| AJLPS4A9HGOQK|         19037.0|    6880.0|\n",
            "|B000GFK7L6|      4|A18FT4SOVZ4CCW|         21557.0|    6880.0|\n",
            "|B000HA4FKY|      4|A3AKG73AM4OKSI|         33563.0|   21491.0|\n",
            "|B000HC48T0|      2|A3775OP5VTX5ON|         32998.0|   21492.0|\n",
            "|B000JMKU0Y|      4| A23U4O4NX29LP|          3186.0|   21493.0|\n",
            "|B000JMKX4W|      4|A2P99LRDXBF8NF|          7913.0|   11454.0|\n",
            "|B000JMKX4W|      3| A9L0KCZBVZDJB|         37956.0|   11454.0|\n",
            "|B000JMKXYW|      5| ALRH7EYOMZ5RH|         39879.0|   21494.0|\n",
            "|B000JML1QG|      2|A1PSYTEX4HIVAC|         24349.0|   21495.0|\n",
            "|B000JML5JY|      4|A1YRYH5LD5W189|         25812.0|   11455.0|\n",
            "|B000JML5JY|      5| AMYS6YEEYSNB1|         19322.0|   11455.0|\n",
            "|B000JMLBHU|      4|A27EEX3H2CB70G|         27217.0|     468.0|\n",
            "|B000JMLBHU|      5|A3MC71A07AH7S3|         17091.0|     468.0|\n",
            "|B000JMLBHU|      3|A25J168NSTHMYW|         26899.0|     468.0|\n",
            "+----------+-------+--------------+----------------+----------+\n",
            "only showing top 20 rows\n",
            "\n"
          ],
          "name": "stdout"
        }
      ]
    },
    {
      "cell_type": "code",
      "metadata": {
        "id": "tpzFNEWcYyRU"
      },
      "source": [
        "(train,test) = transformed.randomSplit([0.8, 0.2], seed=2021)"
      ],
      "execution_count": null,
      "outputs": []
    },
    {
      "cell_type": "code",
      "metadata": {
        "id": "hXE7M9ZJYyRU"
      },
      "source": [
        "als = ALS(maxIter=5,\n",
        "          regParam=0.15,\n",
        "          rank=100,\n",
        "          userCol=\"reviewerID_index\",\n",
        "          itemCol=\"asin_index\",\n",
        "          ratingCol=\"overall\",\n",
        "          coldStartStrategy=\"drop\",\n",
        "          implicitPrefs=False,\n",
        "          nonnegative=True)"
      ],
      "execution_count": null,
      "outputs": []
    },
    {
      "cell_type": "code",
      "metadata": {
        "id": "sOdAAWTcYyRV"
      },
      "source": [
        "model = als.fit(train)"
      ],
      "execution_count": null,
      "outputs": []
    },
    {
      "cell_type": "code",
      "metadata": {
        "id": "KCIwCi75YyRV",
        "outputId": "9b496220-16b0-45b4-98bc-8e58b184fa97"
      },
      "source": [
        "evaluator = RegressionEvaluator(metricName=\"rmse\", labelCol=\"overall\", predictionCol=\"prediction\")\n",
        "predictions = model.transform(test)\n",
        "rmse = evaluator.evaluate(predictions)\n",
        "print(\"RMSE = \" + str(rmse))\n",
        "predictions.show()"
      ],
      "execution_count": null,
      "outputs": [
        {
          "output_type": "stream",
          "text": [
            "RMSE = 1.9171296719848283\n",
            "+----------+-------+--------------+----------------+----------+----------+\n",
            "|      asin|overall|    reviewerID|reviewerID_index|asin_index|prediction|\n",
            "+----------+-------+--------------+----------------+----------+----------+\n",
            "|B007UAUPT4|      4|A1LM14JMSUTXEZ|          4356.0|     148.0| 2.8183692|\n",
            "|B00IIYHLM0|      5| AD6ROXTU7305R|          5759.0|     463.0| 3.4258456|\n",
            "|B00IIYHLM0|      5| ADK827JF6CKJ0|          5764.0|     463.0| 3.9775424|\n",
            "|B00IIYHLM0|      4|A3JHMDPDDFUSLV|          2631.0|     463.0| 4.2370834|\n",
            "|B00IIYHLM0|      5| A396UOEM7XPB5|          8518.0|     463.0| 2.5575194|\n",
            "|B0095612HK|      5|A2U8YWPP1PYHJM|            53.0|     496.0|  4.188701|\n",
            "|B0095612HK|      5|A371U2QY2N2R66|         15995.0|     496.0| 4.0281844|\n",
            "|B00E0QS0D4|      5|A3KG5TKIRPXXD7|         16968.0|     833.0|  3.180298|\n",
            "|B00E0QS0D4|      5|A2HUVS5F8FQKBG|         14143.0|     833.0| 2.4019878|\n",
            "|B00E0QS0D4|      4|A3JGY8WYUZBU6D|          1964.0|     833.0|  3.120148|\n",
            "|B006YTTVHO|      4|A14XDOWJ9L4I4B|          1302.0|    1645.0|   2.05153|\n",
            "|B00FC09OJQ|      5|A1Z9EFZT7D0U2T|         12810.0|    1959.0| 3.9107964|\n",
            "|B00KJ5Z1YG|      5| AB21PLZLWGDE5|          5724.0|    2122.0| 3.2286897|\n",
            "|B00LLI4V82|      5|A1F5ZAUCP4KDVG|           193.0|    2142.0| 4.3018727|\n",
            "|B00LLI4V82|      5|A2OUFEQSKK5PDZ|          3359.0|    2142.0|  4.163117|\n",
            "|B00LLI4V82|      5|A2Y18PKYE2B11Z|          2519.0|    2142.0|  4.671639|\n",
            "|B00E9QPFTM|      5|A20VRO0FKD3ST2|          7167.0|    2659.0| 3.7569532|\n",
            "|B0065M6OCK|      5|A1GQOV7SE71TB0|           886.0|    3175.0|  3.154716|\n",
            "|B00D0AGZQK|      5|A1I5JKKMD84DRU|           195.0|    3749.0| 3.1614285|\n",
            "|B004EPYUOE|      4|A2N3X7514J2COM|          3346.0|    4519.0| 1.4145609|\n",
            "+----------+-------+--------------+----------------+----------+----------+\n",
            "only showing top 20 rows\n",
            "\n"
          ],
          "name": "stdout"
        }
      ]
    },
    {
      "cell_type": "code",
      "metadata": {
        "id": "TxMRPdF0YyRV",
        "outputId": "d2c75b30-b8b5-497a-bd03-b294e553285b"
      },
      "source": [
        "# top 10 ebook recs for reviewer subset\n",
        "reviewers = transformed.select(als.getUserCol()).distinct().limit(20)\n",
        "reviewer_subset_recs = model.recommendForUserSubset(reviewers, 10) \n",
        "reviewer_subset_recs.show()"
      ],
      "execution_count": null,
      "outputs": [
        {
          "output_type": "stream",
          "text": [
            "+----------------+--------------------+\n",
            "|reviewerID_index|     recommendations|\n",
            "+----------------+--------------------+\n",
            "|            7554|[{31535, 5.061816...|\n",
            "|           16916|[{4943, 3.8377805...|\n",
            "|           29811|[{37164, 4.335366...|\n",
            "|            1051|[{9460, 4.8500547...|\n",
            "|             596|[{8850, 4.9752464...|\n",
            "|           28153|[{21544, 4.939356...|\n",
            "|           39817|[{26625, 3.695491...|\n",
            "|             305|[{11787, 5.019263...|\n",
            "|           30867|[{11999, 3.915433...|\n",
            "|           40999|[{11824, 2.954538...|\n",
            "|           10561|[{15843, 4.850876...|\n",
            "|            6433|[{16218, 4.894594...|\n",
            "|            4142|[{6601, 2.8786082...|\n",
            "|            8649|[{27225, 3.962237...|\n",
            "|            3597|[{26760, 4.831100...|\n",
            "|           10129|[{2148, 4.93216},...|\n",
            "|           11924|[{2369, 4.772122}...|\n",
            "|            7782|[{5682, 4.693063}...|\n",
            "+----------------+--------------------+\n",
            "\n"
          ],
          "name": "stdout"
        }
      ]
    },
    {
      "cell_type": "code",
      "metadata": {
        "id": "hfd10oyNYyRV",
        "outputId": "1e4d1191-f117-49e6-c0f4-09d121f8b3a1"
      },
      "source": [
        "reviewer_subset_recs = reviewer_subset_recs.toPandas()\n",
        "reviewer_subset_recs.head()"
      ],
      "execution_count": null,
      "outputs": [
        {
          "output_type": "execute_result",
          "data": {
            "text/html": [
              "<div>\n",
              "<style scoped>\n",
              "    .dataframe tbody tr th:only-of-type {\n",
              "        vertical-align: middle;\n",
              "    }\n",
              "\n",
              "    .dataframe tbody tr th {\n",
              "        vertical-align: top;\n",
              "    }\n",
              "\n",
              "    .dataframe thead th {\n",
              "        text-align: right;\n",
              "    }\n",
              "</style>\n",
              "<table border=\"1\" class=\"dataframe\">\n",
              "  <thead>\n",
              "    <tr style=\"text-align: right;\">\n",
              "      <th></th>\n",
              "      <th>reviewerID_index</th>\n",
              "      <th>recommendations</th>\n",
              "    </tr>\n",
              "  </thead>\n",
              "  <tbody>\n",
              "    <tr>\n",
              "      <th>0</th>\n",
              "      <td>7554</td>\n",
              "      <td>[(31535, 5.061816692352295), (549, 5.009945392...</td>\n",
              "    </tr>\n",
              "    <tr>\n",
              "      <th>1</th>\n",
              "      <td>16916</td>\n",
              "      <td>[(4943, 3.837780475616455), (7013, 3.618249893...</td>\n",
              "    </tr>\n",
              "    <tr>\n",
              "      <th>2</th>\n",
              "      <td>29811</td>\n",
              "      <td>[(37164, 4.3353657722473145), (23177, 4.289042...</td>\n",
              "    </tr>\n",
              "    <tr>\n",
              "      <th>3</th>\n",
              "      <td>1051</td>\n",
              "      <td>[(9460, 4.850054740905762), (1040, 4.827525138...</td>\n",
              "    </tr>\n",
              "    <tr>\n",
              "      <th>4</th>\n",
              "      <td>596</td>\n",
              "      <td>[(8850, 4.975246429443359), (5971, 4.963124752...</td>\n",
              "    </tr>\n",
              "  </tbody>\n",
              "</table>\n",
              "</div>"
            ],
            "text/plain": [
              "   reviewerID_index                                    recommendations\n",
              "0              7554  [(31535, 5.061816692352295), (549, 5.009945392...\n",
              "1             16916  [(4943, 3.837780475616455), (7013, 3.618249893...\n",
              "2             29811  [(37164, 4.3353657722473145), (23177, 4.289042...\n",
              "3              1051  [(9460, 4.850054740905762), (1040, 4.827525138...\n",
              "4               596  [(8850, 4.975246429443359), (5971, 4.963124752..."
            ]
          },
          "metadata": {
            "tags": []
          },
          "execution_count": 20
        }
      ]
    },
    {
      "cell_type": "code",
      "metadata": {
        "id": "U0bYP6FhYyRW"
      },
      "source": [
        "# function to take ebook ASINs\n",
        "def asin_index_taker(row):\n",
        "    asin_index = ''\n",
        "    for i in row['recommendations']:\n",
        "        asin_index += str(i['asin_index']) + ','\n",
        "    return asin_index"
      ],
      "execution_count": null,
      "outputs": []
    },
    {
      "cell_type": "code",
      "metadata": {
        "id": "AX1r7MXPYyRW",
        "outputId": "9e143c4a-f17f-463b-e2d3-d62a6a0f0526"
      },
      "source": [
        "reviewer_subset_recs['recommended_ebooks'] = reviewer_subset_recs.apply(asin_index_taker, axis=1)\n",
        "reviewer_subset_recs"
      ],
      "execution_count": null,
      "outputs": [
        {
          "output_type": "execute_result",
          "data": {
            "text/html": [
              "<div>\n",
              "<style scoped>\n",
              "    .dataframe tbody tr th:only-of-type {\n",
              "        vertical-align: middle;\n",
              "    }\n",
              "\n",
              "    .dataframe tbody tr th {\n",
              "        vertical-align: top;\n",
              "    }\n",
              "\n",
              "    .dataframe thead th {\n",
              "        text-align: right;\n",
              "    }\n",
              "</style>\n",
              "<table border=\"1\" class=\"dataframe\">\n",
              "  <thead>\n",
              "    <tr style=\"text-align: right;\">\n",
              "      <th></th>\n",
              "      <th>reviewerID_index</th>\n",
              "      <th>recommendations</th>\n",
              "      <th>recommended_ebooks</th>\n",
              "    </tr>\n",
              "  </thead>\n",
              "  <tbody>\n",
              "    <tr>\n",
              "      <th>0</th>\n",
              "      <td>7554</td>\n",
              "      <td>[(31535, 5.061816692352295), (549, 5.009945392...</td>\n",
              "      <td>31535,549,25232,8196,18559,1743,10888,5629,417...</td>\n",
              "    </tr>\n",
              "    <tr>\n",
              "      <th>1</th>\n",
              "      <td>16916</td>\n",
              "      <td>[(4943, 3.837780475616455), (7013, 3.618249893...</td>\n",
              "      <td>4943,7013,10976,1208,6062,5019,3512,2210,6253,...</td>\n",
              "    </tr>\n",
              "    <tr>\n",
              "      <th>2</th>\n",
              "      <td>29811</td>\n",
              "      <td>[(37164, 4.3353657722473145), (23177, 4.289042...</td>\n",
              "      <td>37164,23177,17410,15442,2685,34027,9597,19622,...</td>\n",
              "    </tr>\n",
              "    <tr>\n",
              "      <th>3</th>\n",
              "      <td>1051</td>\n",
              "      <td>[(9460, 4.850054740905762), (1040, 4.827525138...</td>\n",
              "      <td>9460,1040,36069,2752,11142,3217,10836,5629,111...</td>\n",
              "    </tr>\n",
              "    <tr>\n",
              "      <th>4</th>\n",
              "      <td>596</td>\n",
              "      <td>[(8850, 4.975246429443359), (5971, 4.963124752...</td>\n",
              "      <td>8850,5971,10632,16098,7009,3077,19980,6301,935...</td>\n",
              "    </tr>\n",
              "    <tr>\n",
              "      <th>5</th>\n",
              "      <td>28153</td>\n",
              "      <td>[(21544, 4.939355850219727), (2842, 3.06026959...</td>\n",
              "      <td>21544,2842,17311,18944,11856,4237,2609,4756,35...</td>\n",
              "    </tr>\n",
              "    <tr>\n",
              "      <th>6</th>\n",
              "      <td>39817</td>\n",
              "      <td>[(26625, 3.695491075515747), (14071, 3.4853115...</td>\n",
              "      <td>26625,14071,5421,7057,3490,3945,2428,15217,757...</td>\n",
              "    </tr>\n",
              "    <tr>\n",
              "      <th>7</th>\n",
              "      <td>305</td>\n",
              "      <td>[(11787, 5.019262790679932), (22347, 4.9408221...</td>\n",
              "      <td>11787,22347,11514,21607,32388,6903,3217,6978,4...</td>\n",
              "    </tr>\n",
              "    <tr>\n",
              "      <th>8</th>\n",
              "      <td>30867</td>\n",
              "      <td>[(11999, 3.915433406829834), (5920, 3.65094876...</td>\n",
              "      <td>11999,5920,9738,19328,19111,11388,9978,2884,13...</td>\n",
              "    </tr>\n",
              "    <tr>\n",
              "      <th>9</th>\n",
              "      <td>40999</td>\n",
              "      <td>[(11824, 2.954538345336914), (22131, 2.4487910...</td>\n",
              "      <td>11824,22131,6032,4720,20086,12312,13336,19865,...</td>\n",
              "    </tr>\n",
              "    <tr>\n",
              "      <th>10</th>\n",
              "      <td>10561</td>\n",
              "      <td>[(15843, 4.850876331329346), (350, 4.807676792...</td>\n",
              "      <td>15843,350,12009,7272,5530,10870,6501,6597,1300...</td>\n",
              "    </tr>\n",
              "    <tr>\n",
              "      <th>11</th>\n",
              "      <td>6433</td>\n",
              "      <td>[(16218, 4.894594669342041), (28493, 3.9156761...</td>\n",
              "      <td>16218,28493,27287,39126,10389,36836,5717,20580...</td>\n",
              "    </tr>\n",
              "    <tr>\n",
              "      <th>12</th>\n",
              "      <td>4142</td>\n",
              "      <td>[(6601, 2.878608226776123), (23225, 2.84687399...</td>\n",
              "      <td>6601,23225,2099,11048,6711,17796,1394,11360,73...</td>\n",
              "    </tr>\n",
              "    <tr>\n",
              "      <th>13</th>\n",
              "      <td>8649</td>\n",
              "      <td>[(27225, 3.96223783493042), (4863, 3.958763122...</td>\n",
              "      <td>27225,4863,4188,10667,4618,10648,10596,3217,20...</td>\n",
              "    </tr>\n",
              "    <tr>\n",
              "      <th>14</th>\n",
              "      <td>3597</td>\n",
              "      <td>[(26760, 4.8311004638671875), (25724, 4.022906...</td>\n",
              "      <td>26760,25724,1056,1692,6889,5943,8889,8692,2814...</td>\n",
              "    </tr>\n",
              "    <tr>\n",
              "      <th>15</th>\n",
              "      <td>10129</td>\n",
              "      <td>[(2148, 4.932159900665283), (9461, 4.059145927...</td>\n",
              "      <td>2148,9461,21147,3582,8901,2458,11409,15751,125...</td>\n",
              "    </tr>\n",
              "    <tr>\n",
              "      <th>16</th>\n",
              "      <td>11924</td>\n",
              "      <td>[(2369, 4.772121906280518), (19094, 4.70031309...</td>\n",
              "      <td>2369,19094,7470,4230,8075,16701,3990,2057,7847...</td>\n",
              "    </tr>\n",
              "    <tr>\n",
              "      <th>17</th>\n",
              "      <td>7782</td>\n",
              "      <td>[(5682, 4.693062782287598), (4356, 4.651572227...</td>\n",
              "      <td>5682,4356,2870,10687,2289,9143,4814,10857,5292...</td>\n",
              "    </tr>\n",
              "  </tbody>\n",
              "</table>\n",
              "</div>"
            ],
            "text/plain": [
              "    reviewerID_index                                    recommendations  \\\n",
              "0               7554  [(31535, 5.061816692352295), (549, 5.009945392...   \n",
              "1              16916  [(4943, 3.837780475616455), (7013, 3.618249893...   \n",
              "2              29811  [(37164, 4.3353657722473145), (23177, 4.289042...   \n",
              "3               1051  [(9460, 4.850054740905762), (1040, 4.827525138...   \n",
              "4                596  [(8850, 4.975246429443359), (5971, 4.963124752...   \n",
              "5              28153  [(21544, 4.939355850219727), (2842, 3.06026959...   \n",
              "6              39817  [(26625, 3.695491075515747), (14071, 3.4853115...   \n",
              "7                305  [(11787, 5.019262790679932), (22347, 4.9408221...   \n",
              "8              30867  [(11999, 3.915433406829834), (5920, 3.65094876...   \n",
              "9              40999  [(11824, 2.954538345336914), (22131, 2.4487910...   \n",
              "10             10561  [(15843, 4.850876331329346), (350, 4.807676792...   \n",
              "11              6433  [(16218, 4.894594669342041), (28493, 3.9156761...   \n",
              "12              4142  [(6601, 2.878608226776123), (23225, 2.84687399...   \n",
              "13              8649  [(27225, 3.96223783493042), (4863, 3.958763122...   \n",
              "14              3597  [(26760, 4.8311004638671875), (25724, 4.022906...   \n",
              "15             10129  [(2148, 4.932159900665283), (9461, 4.059145927...   \n",
              "16             11924  [(2369, 4.772121906280518), (19094, 4.70031309...   \n",
              "17              7782  [(5682, 4.693062782287598), (4356, 4.651572227...   \n",
              "\n",
              "                                   recommended_ebooks  \n",
              "0   31535,549,25232,8196,18559,1743,10888,5629,417...  \n",
              "1   4943,7013,10976,1208,6062,5019,3512,2210,6253,...  \n",
              "2   37164,23177,17410,15442,2685,34027,9597,19622,...  \n",
              "3   9460,1040,36069,2752,11142,3217,10836,5629,111...  \n",
              "4   8850,5971,10632,16098,7009,3077,19980,6301,935...  \n",
              "5   21544,2842,17311,18944,11856,4237,2609,4756,35...  \n",
              "6   26625,14071,5421,7057,3490,3945,2428,15217,757...  \n",
              "7   11787,22347,11514,21607,32388,6903,3217,6978,4...  \n",
              "8   11999,5920,9738,19328,19111,11388,9978,2884,13...  \n",
              "9   11824,22131,6032,4720,20086,12312,13336,19865,...  \n",
              "10  15843,350,12009,7272,5530,10870,6501,6597,1300...  \n",
              "11  16218,28493,27287,39126,10389,36836,5717,20580...  \n",
              "12  6601,23225,2099,11048,6711,17796,1394,11360,73...  \n",
              "13  27225,4863,4188,10667,4618,10648,10596,3217,20...  \n",
              "14  26760,25724,1056,1692,6889,5943,8889,8692,2814...  \n",
              "15  2148,9461,21147,3582,8901,2458,11409,15751,125...  \n",
              "16  2369,19094,7470,4230,8075,16701,3990,2057,7847...  \n",
              "17  5682,4356,2870,10687,2289,9143,4814,10857,5292...  "
            ]
          },
          "metadata": {
            "tags": []
          },
          "execution_count": 22
        }
      ]
    },
    {
      "cell_type": "code",
      "metadata": {
        "id": "eeU8KRBAYyRW",
        "outputId": "aab25e59-0d5a-45cc-d0fe-13611e4a51e9"
      },
      "source": [
        "# top 10 reviewer recs for ebook subset\n",
        "ebooks = transformed.select(als.getItemCol()).distinct().limit(20) \n",
        "ebook_subset_recs = model.recommendForItemSubset(ebooks, 10) \n",
        "ebook_subset_recs.show()"
      ],
      "execution_count": null,
      "outputs": [
        {
          "output_type": "stream",
          "text": [
            "+----------+--------------------+\n",
            "|asin_index|     recommendations|\n",
            "+----------+--------------------+\n",
            "|     11757|[{39110, 2.906642...|\n",
            "|      7171|[{27766, 4.169920...|\n",
            "|     11766|[{9093, 5.500515}...|\n",
            "|     22984|[{9680, 4.3154173...|\n",
            "|     21606|[{27672, 3.927634...|\n",
            "|     22195|[{32424, 4.936210...|\n",
            "|     12172|[{7474, 4.8595257...|\n",
            "|     21911|[{10662, 1.237143...|\n",
            "|     22797|[{8199, 4.968968}...|\n",
            "|     11935|[{19137, 4.460495...|\n",
            "|     11967|[{9869, 5.423187}...|\n",
            "|     22331|[{40899, 3.924944...|\n",
            "|     21791|[{9687, 4.33749},...|\n",
            "|     22274|[{3550, 4.893343}...|\n",
            "|      7115|[{21415, 3.893912...|\n",
            "|     21933|[{5391, 2.0466504...|\n",
            "|     12275|[{31424, 4.942535...|\n",
            "|     11924|[{2, 5.0259}, {21...|\n",
            "|     21825|[{19498, 4.925064...|\n",
            "+----------+--------------------+\n",
            "\n"
          ],
          "name": "stdout"
        }
      ]
    },
    {
      "cell_type": "code",
      "metadata": {
        "id": "B-8YZmc9YyRW",
        "outputId": "92c8baff-a19d-486b-9cab-7f96fc158983"
      },
      "source": [
        "ebook_subset_recs = ebook_subset_recs.toPandas()\n",
        "ebook_subset_recs.head()"
      ],
      "execution_count": null,
      "outputs": [
        {
          "output_type": "execute_result",
          "data": {
            "text/html": [
              "<div>\n",
              "<style scoped>\n",
              "    .dataframe tbody tr th:only-of-type {\n",
              "        vertical-align: middle;\n",
              "    }\n",
              "\n",
              "    .dataframe tbody tr th {\n",
              "        vertical-align: top;\n",
              "    }\n",
              "\n",
              "    .dataframe thead th {\n",
              "        text-align: right;\n",
              "    }\n",
              "</style>\n",
              "<table border=\"1\" class=\"dataframe\">\n",
              "  <thead>\n",
              "    <tr style=\"text-align: right;\">\n",
              "      <th></th>\n",
              "      <th>asin_index</th>\n",
              "      <th>recommendations</th>\n",
              "    </tr>\n",
              "  </thead>\n",
              "  <tbody>\n",
              "    <tr>\n",
              "      <th>0</th>\n",
              "      <td>11757</td>\n",
              "      <td>[(39110, 2.906642198562622), (9093, 2.51824808...</td>\n",
              "    </tr>\n",
              "    <tr>\n",
              "      <th>1</th>\n",
              "      <td>7171</td>\n",
              "      <td>[(27766, 4.169920444488525), (23524, 4.1699204...</td>\n",
              "    </tr>\n",
              "    <tr>\n",
              "      <th>2</th>\n",
              "      <td>11766</td>\n",
              "      <td>[(9093, 5.500514984130859), (9687, 5.385972976...</td>\n",
              "    </tr>\n",
              "    <tr>\n",
              "      <th>3</th>\n",
              "      <td>22984</td>\n",
              "      <td>[(9680, 4.315417289733887), (38615, 4.14181375...</td>\n",
              "    </tr>\n",
              "    <tr>\n",
              "      <th>4</th>\n",
              "      <td>21606</td>\n",
              "      <td>[(27672, 3.9276347160339355), (12634, 3.372845...</td>\n",
              "    </tr>\n",
              "  </tbody>\n",
              "</table>\n",
              "</div>"
            ],
            "text/plain": [
              "   asin_index                                    recommendations\n",
              "0       11757  [(39110, 2.906642198562622), (9093, 2.51824808...\n",
              "1        7171  [(27766, 4.169920444488525), (23524, 4.1699204...\n",
              "2       11766  [(9093, 5.500514984130859), (9687, 5.385972976...\n",
              "3       22984  [(9680, 4.315417289733887), (38615, 4.14181375...\n",
              "4       21606  [(27672, 3.9276347160339355), (12634, 3.372845..."
            ]
          },
          "metadata": {
            "tags": []
          },
          "execution_count": 24
        }
      ]
    },
    {
      "cell_type": "code",
      "metadata": {
        "id": "JIwEp7mVYyRW"
      },
      "source": [
        "# function to take reviewer ids\n",
        "def reviewer_id_index_taker(row):\n",
        "    reviewerID_index = ''\n",
        "    for i in row['recommendations']:\n",
        "        reviewerID_index += str(i['reviewerID_index']) + ','\n",
        "    return reviewerID_index"
      ],
      "execution_count": null,
      "outputs": []
    },
    {
      "cell_type": "code",
      "metadata": {
        "id": "4X8-Y4n7YyRX",
        "outputId": "7b94a858-fe87-4f30-f425-c3e47316f66e"
      },
      "source": [
        "ebook_subset_recs['users_recommended_to'] = ebook_subset_recs.apply(reviewer_id_index_taker, axis=1)\n",
        "ebook_subset_recs"
      ],
      "execution_count": null,
      "outputs": [
        {
          "output_type": "execute_result",
          "data": {
            "text/html": [
              "<div>\n",
              "<style scoped>\n",
              "    .dataframe tbody tr th:only-of-type {\n",
              "        vertical-align: middle;\n",
              "    }\n",
              "\n",
              "    .dataframe tbody tr th {\n",
              "        vertical-align: top;\n",
              "    }\n",
              "\n",
              "    .dataframe thead th {\n",
              "        text-align: right;\n",
              "    }\n",
              "</style>\n",
              "<table border=\"1\" class=\"dataframe\">\n",
              "  <thead>\n",
              "    <tr style=\"text-align: right;\">\n",
              "      <th></th>\n",
              "      <th>asin_index</th>\n",
              "      <th>recommendations</th>\n",
              "      <th>users_recommended_to</th>\n",
              "    </tr>\n",
              "  </thead>\n",
              "  <tbody>\n",
              "    <tr>\n",
              "      <th>0</th>\n",
              "      <td>11757</td>\n",
              "      <td>[(39110, 2.906642198562622), (9093, 2.51824808...</td>\n",
              "      <td>39110,9093,9680,36169,41623,40854,22152,19699,...</td>\n",
              "    </tr>\n",
              "    <tr>\n",
              "      <th>1</th>\n",
              "      <td>7171</td>\n",
              "      <td>[(27766, 4.169920444488525), (23524, 4.1699204...</td>\n",
              "      <td>27766,23524,19915,7127,39082,10,20776,35806,40...</td>\n",
              "    </tr>\n",
              "    <tr>\n",
              "      <th>2</th>\n",
              "      <td>11766</td>\n",
              "      <td>[(9093, 5.500514984130859), (9687, 5.385972976...</td>\n",
              "      <td>9093,9687,38834,15808,22152,41623,40854,39082,...</td>\n",
              "    </tr>\n",
              "    <tr>\n",
              "      <th>3</th>\n",
              "      <td>22984</td>\n",
              "      <td>[(9680, 4.315417289733887), (38615, 4.14181375...</td>\n",
              "      <td>9680,38615,39082,21973,8662,7004,31887,104,233...</td>\n",
              "    </tr>\n",
              "    <tr>\n",
              "      <th>4</th>\n",
              "      <td>21606</td>\n",
              "      <td>[(27672, 3.9276347160339355), (12634, 3.372845...</td>\n",
              "      <td>27672,12634,13315,39117,21888,20639,36176,9563...</td>\n",
              "    </tr>\n",
              "    <tr>\n",
              "      <th>5</th>\n",
              "      <td>22195</td>\n",
              "      <td>[(32424, 4.936210632324219), (14559, 4.1451697...</td>\n",
              "      <td>32424,14559,11697,13123,30761,12943,7827,5678,...</td>\n",
              "    </tr>\n",
              "    <tr>\n",
              "      <th>6</th>\n",
              "      <td>12172</td>\n",
              "      <td>[(7474, 4.859525680541992), (9746, 4.616447448...</td>\n",
              "      <td>7474,9746,18080,9687,31437,15808,7701,36169,11...</td>\n",
              "    </tr>\n",
              "    <tr>\n",
              "      <th>7</th>\n",
              "      <td>21911</td>\n",
              "      <td>[(10662, 1.237143635749817), (18926, 1.2156422...</td>\n",
              "      <td>10662,18926,22969,2835,8115,19968,38037,26303,...</td>\n",
              "    </tr>\n",
              "    <tr>\n",
              "      <th>8</th>\n",
              "      <td>22797</td>\n",
              "      <td>[(8199, 4.968967914581299), (8100, 4.927923202...</td>\n",
              "      <td>8199,8100,12081,4550,39082,1271,37355,9746,968...</td>\n",
              "    </tr>\n",
              "    <tr>\n",
              "      <th>9</th>\n",
              "      <td>11935</td>\n",
              "      <td>[(19137, 4.4604949951171875), (16156, 4.246379...</td>\n",
              "      <td>19137,16156,3414,2857,4273,1420,36169,38615,52...</td>\n",
              "    </tr>\n",
              "    <tr>\n",
              "      <th>10</th>\n",
              "      <td>11967</td>\n",
              "      <td>[(9869, 5.423186779022217), (9687, 5.253345489...</td>\n",
              "      <td>9869,9687,15808,1271,38037,1487,38615,11376,16...</td>\n",
              "    </tr>\n",
              "    <tr>\n",
              "      <th>11</th>\n",
              "      <td>22331</td>\n",
              "      <td>[(40899, 3.9249448776245117), (36169, 3.569956...</td>\n",
              "      <td>40899,36169,35021,17285,38615,25111,16559,7985...</td>\n",
              "    </tr>\n",
              "    <tr>\n",
              "      <th>12</th>\n",
              "      <td>21791</td>\n",
              "      <td>[(9687, 4.337490081787109), (41179, 4.31685876...</td>\n",
              "      <td>9687,41179,38740,38834,1271,4407,10717,15808,1...</td>\n",
              "    </tr>\n",
              "    <tr>\n",
              "      <th>13</th>\n",
              "      <td>22274</td>\n",
              "      <td>[(3550, 4.893342971801758), (9746, 4.699467658...</td>\n",
              "      <td>3550,9746,36169,39304,13744,1271,8199,9869,160...</td>\n",
              "    </tr>\n",
              "    <tr>\n",
              "      <th>14</th>\n",
              "      <td>7115</td>\n",
              "      <td>[(21415, 3.8939127922058105), (29373, 2.920434...</td>\n",
              "      <td>21415,29373,38615,18365,30688,36169,9093,9687,...</td>\n",
              "    </tr>\n",
              "    <tr>\n",
              "      <th>15</th>\n",
              "      <td>21933</td>\n",
              "      <td>[(5391, 2.0466504096984863), (2135, 2.01352071...</td>\n",
              "      <td>5391,2135,296,9746,35845,28219,7070,16115,1137...</td>\n",
              "    </tr>\n",
              "    <tr>\n",
              "      <th>16</th>\n",
              "      <td>12275</td>\n",
              "      <td>[(31424, 4.942534923553467), (8674, 4.94214725...</td>\n",
              "      <td>31424,8674,7004,1487,29061,13315,11376,16115,2...</td>\n",
              "    </tr>\n",
              "    <tr>\n",
              "      <th>17</th>\n",
              "      <td>11924</td>\n",
              "      <td>[(2, 5.025899887084961), (21973, 5.00674962997...</td>\n",
              "      <td>2,21973,17513,9746,6797,29020,38615,9687,16790...</td>\n",
              "    </tr>\n",
              "    <tr>\n",
              "      <th>18</th>\n",
              "      <td>21825</td>\n",
              "      <td>[(19498, 4.9250640869140625), (1235, 4.5386557...</td>\n",
              "      <td>19498,1235,9869,11538,26428,17764,39327,28497,...</td>\n",
              "    </tr>\n",
              "  </tbody>\n",
              "</table>\n",
              "</div>"
            ],
            "text/plain": [
              "    asin_index                                    recommendations  \\\n",
              "0        11757  [(39110, 2.906642198562622), (9093, 2.51824808...   \n",
              "1         7171  [(27766, 4.169920444488525), (23524, 4.1699204...   \n",
              "2        11766  [(9093, 5.500514984130859), (9687, 5.385972976...   \n",
              "3        22984  [(9680, 4.315417289733887), (38615, 4.14181375...   \n",
              "4        21606  [(27672, 3.9276347160339355), (12634, 3.372845...   \n",
              "5        22195  [(32424, 4.936210632324219), (14559, 4.1451697...   \n",
              "6        12172  [(7474, 4.859525680541992), (9746, 4.616447448...   \n",
              "7        21911  [(10662, 1.237143635749817), (18926, 1.2156422...   \n",
              "8        22797  [(8199, 4.968967914581299), (8100, 4.927923202...   \n",
              "9        11935  [(19137, 4.4604949951171875), (16156, 4.246379...   \n",
              "10       11967  [(9869, 5.423186779022217), (9687, 5.253345489...   \n",
              "11       22331  [(40899, 3.9249448776245117), (36169, 3.569956...   \n",
              "12       21791  [(9687, 4.337490081787109), (41179, 4.31685876...   \n",
              "13       22274  [(3550, 4.893342971801758), (9746, 4.699467658...   \n",
              "14        7115  [(21415, 3.8939127922058105), (29373, 2.920434...   \n",
              "15       21933  [(5391, 2.0466504096984863), (2135, 2.01352071...   \n",
              "16       12275  [(31424, 4.942534923553467), (8674, 4.94214725...   \n",
              "17       11924  [(2, 5.025899887084961), (21973, 5.00674962997...   \n",
              "18       21825  [(19498, 4.9250640869140625), (1235, 4.5386557...   \n",
              "\n",
              "                                 users_recommended_to  \n",
              "0   39110,9093,9680,36169,41623,40854,22152,19699,...  \n",
              "1   27766,23524,19915,7127,39082,10,20776,35806,40...  \n",
              "2   9093,9687,38834,15808,22152,41623,40854,39082,...  \n",
              "3   9680,38615,39082,21973,8662,7004,31887,104,233...  \n",
              "4   27672,12634,13315,39117,21888,20639,36176,9563...  \n",
              "5   32424,14559,11697,13123,30761,12943,7827,5678,...  \n",
              "6   7474,9746,18080,9687,31437,15808,7701,36169,11...  \n",
              "7   10662,18926,22969,2835,8115,19968,38037,26303,...  \n",
              "8   8199,8100,12081,4550,39082,1271,37355,9746,968...  \n",
              "9   19137,16156,3414,2857,4273,1420,36169,38615,52...  \n",
              "10  9869,9687,15808,1271,38037,1487,38615,11376,16...  \n",
              "11  40899,36169,35021,17285,38615,25111,16559,7985...  \n",
              "12  9687,41179,38740,38834,1271,4407,10717,15808,1...  \n",
              "13  3550,9746,36169,39304,13744,1271,8199,9869,160...  \n",
              "14  21415,29373,38615,18365,30688,36169,9093,9687,...  \n",
              "15  5391,2135,296,9746,35845,28219,7070,16115,1137...  \n",
              "16  31424,8674,7004,1487,29061,13315,11376,16115,2...  \n",
              "17  2,21973,17513,9746,6797,29020,38615,9687,16790...  \n",
              "18  19498,1235,9869,11538,26428,17764,39327,28497,...  "
            ]
          },
          "metadata": {
            "tags": []
          },
          "execution_count": 26
        }
      ]
    },
    {
      "cell_type": "code",
      "metadata": {
        "id": "mL8umSV6tG20"
      },
      "source": [
        ""
      ],
      "execution_count": null,
      "outputs": []
    }
  ]
}